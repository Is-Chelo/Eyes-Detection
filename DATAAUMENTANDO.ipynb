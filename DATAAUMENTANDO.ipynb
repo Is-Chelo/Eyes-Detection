{
 "cells": [
  {
   "cell_type": "code",
   "execution_count": 6,
   "metadata": {},
   "outputs": [
    {
     "name": "stdout",
     "output_type": "stream",
     "text": [
      "Found 0 images belonging to 0 classes.\n"
     ]
    }
   ],
   "source": [
    "from keras.models import Sequential, Model\n",
    "from keras.layers import Conv2D, MaxPool2D, Dense, Flatten, Dropout, BatchNormalization, Input\n",
    "from keras.optimizers import Adam\n",
    "from keras.callbacks import TensorBoard, ModelCheckpoint\n",
    "from keras.utils import np_utils\n",
    "import os\n",
    "import numpy as np\n",
    "from keras.preprocessing import image\n",
    "from keras.applications.imagenet_utils import preprocess_input, decode_predictions\n",
    "from keras.applications.vgg16 import VGG16\n",
    "from sklearn.utils import shuffle\n",
    "from sklearn.model_selection import train_test_split\n",
    "import cv2\n",
    "import matplotlib.pyplot as plt\n",
    "%matplotlib inline\n",
    "\n",
    "from keras.preprocessing.image import ImageDataGenerator \n",
    "\n",
    "width_shape = 224\n",
    "height_shape = 224\n",
    "num_classes = 10\n",
    "epochs = 50\n",
    "batch_size = 32 \n",
    "\n",
    "# train_data_dir = 'D:/Video Tutoriales/ImageClassification/dataset/train' \n",
    "\n",
    "validation_data_dir = 'C://Users//CHELO//IA3//Untitled Folder//Capturas//TER//valid//center'\n",
    "\n",
    "\n",
    "# train_datagen = ImageDataGenerator(  \n",
    "#     rotation_range=20,\n",
    "#     zoom_range=0.2,\n",
    "#     width_shift_range=0.1,\n",
    "#     height_shift_range=0.1,\n",
    "#     horizontal_flip=True,\n",
    "#     vertical_flip=False,\n",
    "#     preprocessing_function=preprocess_input)\n",
    "\n",
    "valid_datagen = ImageDataGenerator(    \n",
    "    rotation_range=20,\n",
    "    \n",
    "    preprocessing_function=preprocess_input)\n",
    "\n",
    "# train_generator = train_datagen.flow_from_directory(  \n",
    "#     train_data_dir,\n",
    "#     target_size=(width_shape, height_shape),\n",
    "#     batch_size=batch_size,\n",
    "#     #save_to_dir='',\n",
    "#     class_mode='categorical')\n",
    "\n",
    "validation_generator = valid_datagen.flow_from_directory(  \n",
    "    validation_data_dir,\n",
    "    target_size=(width_shape, height_shape),\n",
    "    batch_size=batch_size,\n",
    "    save_to_dir='./Untitled Folder/Capturas/TER/valid/center/',\n",
    "    class_mode='categorical')\n"
   ]
  },
  {
   "cell_type": "code",
   "execution_count": 26,
   "metadata": {},
   "outputs": [
    {
     "name": "stdout",
     "output_type": "stream",
     "text": [
      "('images generadas', 1300)\n"
     ]
    }
   ],
   "source": [
    "\n",
    "import os\n",
    "import numpy as np\n",
    "import cv2\n",
    "from keras.preprocessing.image import ImageDataGenerator, load_img, img_to_array \n",
    "from keras.preprocessing import image\n",
    "path = \"C://Users//CHELO//IA3//Untitled Folder//Capturas//TER//train//rigth\"\n",
    "# DG_folder = 'DG_data6'\n",
    "images_increased = 1\n",
    "# try:\n",
    "#     os.mkdir(DG_folder)\n",
    "# except:\n",
    "#     print(\"\")\n",
    "train_datagen = ImageDataGenerator(  \n",
    "    rotation_range=20,\n",
    "#     zoom_range=0.2,\n",
    "#     width_shift_range=0.1,\n",
    "#     height_shift_range=0.1,\n",
    "    horizontal_flip=False,\n",
    "    vertical_flip=True)\n",
    "\n",
    "data_path = \"C://Users//CHELO//IA3//Untitled Folder//Capturas//TER//train//rigth\"\n",
    "data_dir_list = os.listdir(data_path)\n",
    "\n",
    "width_shape, height_shape = 270, 130\n",
    "i = 0\n",
    "num_images = 0\n",
    "for image_file in data_dir_list:\n",
    "    img_list = os.listdir(data_path)\n",
    "    \n",
    "    img_path = data_path + '/'+ image_file;\n",
    "    image = load_img(img_path)\n",
    "    \n",
    "    imge = load_img(img_path)\n",
    "    imge = cv2.resize(img_to_array(imge), (width_shape, height_shape), interpolation = cv2.INTER_AREA)\n",
    "    x = imge/255\n",
    "    x = np.expand_dims(x,axis=0)\n",
    "    t=1\n",
    "    for output_batch in train_datagen.flow(x,batch_size=1):\n",
    "        a = img_to_array(output_batch[0])\n",
    "        imagen = output_batch[0,:,:]*255\n",
    "        imgfinal = cv2.cvtColor(imagen, cv2.COLOR_BGR2RGB)\n",
    "        cv2.imwrite(path+\"/%i%i.jpg\"%(i,t),imgfinal)\n",
    "        t+=1\n",
    "        \n",
    "        num_images += 1\n",
    "        if t>images_increased:\n",
    "            break\n",
    "    i += 1\n",
    "print(\"images generadas\", num_images)"
   ]
  },
  {
   "cell_type": "code",
   "execution_count": null,
   "metadata": {},
   "outputs": [],
   "source": []
  }
 ],
 "metadata": {
  "kernelspec": {
   "display_name": "Python 2",
   "language": "python",
   "name": "python2"
  },
  "language_info": {
   "codemirror_mode": {
    "name": "ipython",
    "version": 2
   },
   "file_extension": ".py",
   "mimetype": "text/x-python",
   "name": "python",
   "nbconvert_exporter": "python",
   "pygments_lexer": "ipython2",
   "version": "2.7.16"
  }
 },
 "nbformat": 4,
 "nbformat_minor": 2
}
