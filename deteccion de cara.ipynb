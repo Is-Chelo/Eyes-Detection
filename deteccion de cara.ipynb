{
 "cells": [
  {
   "cell_type": "code",
   "execution_count": 9,
   "metadata": {},
   "outputs": [],
   "source": [
    "import cv2\n",
    "import numpy as np\n"
   ]
  },
  {
   "cell_type": "code",
   "execution_count": 10,
   "metadata": {},
   "outputs": [],
   "source": [
    "faceClassif = cv2.CascadeClassifier(\"haarcascade_eye.xml\")  # Cargamos el modelo de clasificacion de rostros \n",
    "image = cv2.imread(\"ojo.jpg\")  #Leemos la imagen que vamos a reconocer \n",
    "\n",
    "gray = cv2.cvtColor(image, cv2.COLOR_BGR2GRAY) #convertimos la imagen a blanco y negro \n",
    "\n"
   ]
  },
  {
   "cell_type": "code",
   "execution_count": 11,
   "metadata": {},
   "outputs": [
    {
     "name": "stdout",
     "output_type": "stream",
     "text": [
      "[51, 34, 138, 138]\n"
     ]
    }
   ],
   "source": [
    "\n",
    "faces = faceClassif.detectMultiScale(gray,\n",
    "    scaleFactor=1.09,\n",
    "    minNeighbors=5,\n",
    "    minSize=(30,30),\n",
    "    maxSize=(200,200))\n",
    "\n",
    "for (x,y,w,h) in faces:\n",
    "    cv2.rectangle(image,(x,y),(x+w,y+h),(0,255,0),2)\n",
    "    cortado = [x,y,w,h]\n",
    "    \n",
    "print(cortado)\n",
    "puntoDerecha= cortado[0] + cortado[2]\n",
    "puntoAbajo = cortado[1] + cortado[3]\n",
    "x1 = cortado[0] \n",
    "y1= cortado[1]\n",
    "\n",
    "img = image[y1:puntoAbajo, x1:puntoDerecha]\n",
    "\n",
    "cv2.imshow('image',img)\n",
    "cv2.waitKey(0)\n",
    "cv2.destroyAllWindows()"
   ]
  },
  {
   "cell_type": "code",
   "execution_count": 12,
   "metadata": {},
   "outputs": [],
   "source": [
    "faceClassif = cv2.CascadeClassifier(\"haarcascade_eye.xml\")  # Cargamos el modelo de clasificacion de rostros \n",
    "# image = cv2.imread(\"ojo.jpg\")  #Leemos la imagen que vamos a reconocer \n",
    "\n",
    "imgblur = cv2.medianBlur(img,5)\n",
    "gray = cv2.cvtColor(img, cv2.COLOR_BGR2GRAY) #convertimos la imagen a blanco y negro \n",
    "\n",
    "# detect circles in the image\n",
    "circles = cv2.HoughCircles(gray, cv2.HOUGH_GRADIENT, 1, 20,\n",
    "                            param1=50, param2=30, minRadius=0, maxRadius=0)\n",
    "\n",
    "if circles is not None:\n",
    "    # convert the (x, y) coordinates and radius of the circles to integers\n",
    "    \n",
    "\n",
    "    circles = np.uint16(np.around(circles))\n",
    "    for i in circles[0,:]:\n",
    "        # dibujar circulo \n",
    "        cv2.circle(img, (i[0], i[1]), i[2], (0,255,0), 2)\n",
    "        # dibujar centro\n",
    "        cv2.circle(img, (i[0], i[1]), 2, (0,0,255), 3)\n",
    "\n",
    "    cv2.imshow('detected circles', img)\n",
    "    cv2.waitKey(0)\n",
    "    cv2.destroyAllWindows()"
   ]
  },
  {
   "cell_type": "code",
   "execution_count": 13,
   "metadata": {},
   "outputs": [],
   "source": [
    "# Para mostrar la Imagen\n",
    "cv2.imshow('image', gray)\n",
    "cv2.waitKey(0)\n",
    "cv2.destroyAllWindows()"
   ]
  },
  {
   "cell_type": "code",
   "execution_count": 14,
   "metadata": {},
   "outputs": [
    {
     "ename": "error",
     "evalue": "..\\..\\..\\modules\\imgproc\\src\\color.cpp:7456: error: (-215) scn == 3 || scn == 4 in function cv::ipp_cvtColor\n",
     "output_type": "error",
     "traceback": [
      "\u001b[1;31m\u001b[0m",
      "\u001b[1;31merror\u001b[0mTraceback (most recent call last)",
      "\u001b[1;32m<ipython-input-14-79af3018a897>\u001b[0m in \u001b[0;36m<module>\u001b[1;34m()\u001b[0m\n\u001b[0;32m      9\u001b[0m \u001b[1;32mwhile\u001b[0m \u001b[0mTrue\u001b[0m\u001b[1;33m:\u001b[0m\u001b[1;33m\u001b[0m\u001b[0m\n\u001b[0;32m     10\u001b[0m         \u001b[0mret\u001b[0m\u001b[1;33m,\u001b[0m\u001b[0mframe\u001b[0m \u001b[1;33m=\u001b[0m \u001b[0mcap\u001b[0m\u001b[1;33m.\u001b[0m\u001b[0mread\u001b[0m\u001b[1;33m(\u001b[0m\u001b[1;33m)\u001b[0m\u001b[1;33m\u001b[0m\u001b[0m\n\u001b[1;32m---> 11\u001b[1;33m         \u001b[0mgray\u001b[0m \u001b[1;33m=\u001b[0m \u001b[0mcv2\u001b[0m\u001b[1;33m.\u001b[0m\u001b[0mcvtColor\u001b[0m\u001b[1;33m(\u001b[0m\u001b[0mframe\u001b[0m\u001b[1;33m,\u001b[0m \u001b[0mcv2\u001b[0m\u001b[1;33m.\u001b[0m\u001b[0mCOLOR_BGR2GRAY\u001b[0m\u001b[1;33m)\u001b[0m\u001b[1;33m\u001b[0m\u001b[0m\n\u001b[0m\u001b[0;32m     12\u001b[0m \u001b[1;33m\u001b[0m\u001b[0m\n\u001b[0;32m     13\u001b[0m         \u001b[0mfaces\u001b[0m \u001b[1;33m=\u001b[0m \u001b[0mfaceClassif\u001b[0m\u001b[1;33m.\u001b[0m\u001b[0mdetectMultiScale\u001b[0m\u001b[1;33m(\u001b[0m\u001b[0mgray\u001b[0m\u001b[1;33m,\u001b[0m \u001b[1;36m1.3\u001b[0m\u001b[1;33m,\u001b[0m \u001b[1;36m5\u001b[0m\u001b[1;33m)\u001b[0m\u001b[1;33m\u001b[0m\u001b[0m\n",
      "\u001b[1;31merror\u001b[0m: ..\\..\\..\\modules\\imgproc\\src\\color.cpp:7456: error: (-215) scn == 3 || scn == 4 in function cv::ipp_cvtColor\n"
     ]
    }
   ],
   "source": [
    "# Codigo para video en Vivo\n",
    "import cv2\n",
    "import numpy as np\n",
    "\n",
    "cap = cv2.VideoCapture(0)\n",
    "\n",
    "faceClassif = cv2.CascadeClassifier('haarcascade_eye.xml')\n",
    "\n",
    "while True:\n",
    "\tret,frame = cap.read()\n",
    "\tgray = cv2.cvtColor(frame, cv2.COLOR_BGR2GRAY)\n",
    "\n",
    "\tfaces = faceClassif.detectMultiScale(gray, 1.3, 5)\n",
    "\n",
    "\tfor (x,y,w,h) in faces:\n",
    "\t\tcv2.rectangle(frame, (x,y),(x+w,y+h),(0,255,0),2)\n",
    "\n",
    "\tcv2.imshow('frame',frame)\n",
    "\t\n",
    "\tif cv2.waitKey(1) & 0xFF == ord('q'):\n",
    "\t\tbreak\n",
    "cap.release()\n",
    "cv2.destroyAllWindows()"
   ]
  },
  {
   "cell_type": "code",
   "execution_count": null,
   "metadata": {},
   "outputs": [],
   "source": [
    "#///////////////////////Codigo Funcionando////////////////////////\n",
    "\n",
    "import cv2\n",
    "\n",
    "cap = cv2.VideoCapture(\"ojoFullHD1.mp4\")\n",
    "while True:\n",
    "    red, frame = cap.read()\n",
    "    \n",
    "    roi = frame[100:600, 800:1400]\n",
    "    gray_roi = cv2.cvtColor(frame, cv2.COLOR_BGR2GRAY)\n",
    "    gray_roi = cv2.GaussianBlur(gray_roi, (7,7),0)\n",
    "    _, threshold = cv2.threshold(gray_roi, 5, 255, cv2.THRESH_BINARY_INV)\n",
    "    contornos,_=cv2.findContours(threshold, cv2.RETR_TREE, cv2.CHAIN_APPROX_SIMPLE)[-2:]\n",
    "\n",
    "    \n",
    "    for cnt in contornos:\n",
    "        (x, y, w, h) = cv2.boundingRect(cnt)\n",
    "        cv2.rectangle(frame, (x, y), (x + w, y + h), (255, 0, 0), 2)\n",
    "        break\n",
    "    \n",
    "# Para dibujar los contornos encontrados\n",
    "#     frame = cv2.drawContours(frame, contornos, -1, (0,255,0),2)\n",
    "    \n",
    "    cv2.imshow(\"threshold\",frame) \n",
    "\n",
    "    key = cv2.waitKey(30)\n",
    "    if key == 27:\n",
    "        break\n",
    "        \n",
    "cap.release()\n",
    "cv2.destroyAllWindows()"
   ]
  },
  {
   "cell_type": "code",
   "execution_count": null,
   "metadata": {},
   "outputs": [],
   "source": [
    "import cv2\n",
    "import numpy as np\n",
    "import dlib\n",
    "from math import hypot\n",
    "\n",
    "cap = cv2.VideoCapture(0)\n",
    "\n",
    "detector = dlib.get_frontal_face_detector()\n",
    "predictor = dlib.shape_predictor(\"shape_predictor_68_face_landmarks.dat\")\n",
    "\n",
    "def puntoMedio(p1 ,p2):\n",
    "    return int((p1.x + p2.x)/2), int((p1.y + p2.y)/2)\n",
    "\n",
    "\n",
    "while True:\n",
    "    _, frame = cap.read()\n",
    "    gray = cv2.cvtColor(frame, cv2.COLOR_BGR2GRAY)\n",
    "    faces = detector(gray)\n",
    "    for face in faces:\n",
    "        #x, y = face.left(), face.top()\n",
    "        #x1, y1 = face.right(), face.bottom()\n",
    "        #cv2.rectangle(frame, (x, y), (x1, y1), (0, 255, 0), 2)\n",
    "        landmarks = predictor(gray, face)\n",
    "        left_point = (landmarks.part(36).x, landmarks.part(36).y)\n",
    "        right_point = (landmarks.part(39).x, landmarks.part(39).y)\n",
    "        center_top = puntoMedio(landmarks.part(37), landmarks.part(38)) \n",
    "        center_bottom = puntoMedio(landmarks.part(41), landmarks.part(40))\n",
    "        \n",
    "#         hor_line = cv2.line(frame, left_point, right_point, (0, 255, 0), 2)\n",
    "#         ver_line = cv2.line(frame, center_top, center_bottom, (0, 255, 0), 2)\n",
    "        \n",
    "        #sacamos el tamaño \n",
    "        hor_line_lenght = hypot((left_point[0] - right_point[0]), (left_point[1] - right_point[1]))\n",
    "        ver_line_lenght = hypot((center_top[0] - center_bottom[0]), (center_top[1] - center_bottom[1]))\n",
    "        \n",
    "#         print(ver_line_lenght)\n",
    "\n",
    "\n",
    "        # Para Recortar el ojo \n",
    "    \n",
    "        \n",
    "        \n",
    "        \n",
    "        relacion = hor_line_lenght / ver_line_lenght\n",
    "#         print(relacion)\n",
    "        \n",
    "        if relacion > 5.5:\n",
    "            cv2.putText(frame, \"HOLA MUNDO\", (50, 150), cv2.FONT_HERSHEY_SIMPLEX, 3, (255,0,0) )\n",
    "            \n",
    "            \n",
    "            \n",
    "        left_eye_region = np.array([(landmarks.part(36).x, landmarks.part(36).y),\n",
    "                            (landmarks.part(37).x, landmarks.part(37).y),\n",
    "                            (landmarks.part(38).x, landmarks.part(38).y),\n",
    "                            (landmarks.part(39).x, landmarks.part(39).y),\n",
    "                            (landmarks.part(40).x, landmarks.part(40).y),\n",
    "                            (landmarks.part(41).x, landmarks.part(41).y)], np.int32)\n",
    "                        \n",
    "#         print(left_eye_region) \n",
    "#         cv2.polylines(frame, [left_eye_region], True, (0,0,255), 2)\n",
    "    \n",
    "    #sacamos los puntos minimos y maximos para poder recortarlo\n",
    "        min_x = np.min(left_eye_region[:, 0])\n",
    "        max_x = np.max(left_eye_region[:, 0])\n",
    "        min_y = np.min(left_eye_region[:, 1])\n",
    "        max_y = np.max(left_eye_region[:, 1])\n",
    "        \n",
    "#         Recortamos \n",
    "\n",
    "        eye = frame[min_y: max_y, min_x: mafatkunx_x]\n",
    "        \n",
    "        gray_eye = cv2.cvtColor(eye, cv2.COLOR_BGR2GRAY)\n",
    "        \n",
    "        _, threshold_eye = cv2.threshold(gray_eye, 70, 255, cv2.THRESH_BINARY)\n",
    "        \n",
    "#       Redimensionamos el tamaño\n",
    "        eye = cv2.resize(gray_eye, None, fx=5, fy=5)\n",
    "        cv2.imshow(\"Eye\", eye)\n",
    "        \n",
    "    \n",
    "    \n",
    "    cv2.imshow(\"frame\",frame) \n",
    "\n",
    "    key = cv2.waitKey(1)\n",
    "    if key == 27:\n",
    "        break\n",
    "cap.release()\n",
    "cv2.destroyAllWindows() "
   ]
  },
  {
   "cell_type": "code",
   "execution_count": null,
   "metadata": {},
   "outputs": [],
   "source": [
    "import cv2\n",
    "import numpy as np\n",
    "import dlib\n",
    "from math import hypot"
   ]
  },
  {
   "cell_type": "code",
   "execution_count": null,
   "metadata": {},
   "outputs": [],
   "source": [
    "cap = cv2.VideoCapture(0)\n",
    "\n",
    "detector = dlib.get_frontal_face_detector()\n",
    "predictor = dlib.shape_predictor(\"shape_predictor_68_face_landmarks.dat\")"
   ]
  },
  {
   "cell_type": "code",
   "execution_count": null,
   "metadata": {},
   "outputs": [],
   "source": [
    "def puntoMedio(p1 ,p2):\n",
    "    return int((p1.x + p2.x)/2), int((p1.y + p2.y)/2)"
   ]
  },
  {
   "cell_type": "code",
   "execution_count": null,
   "metadata": {},
   "outputs": [],
   "source": [
    "while True:\n",
    "    _, frame = cap.read()\n",
    "    gray = cv2.cvtColor(frame, cv2.COLOR_BGR2GRAY)\n",
    "    faces = detector(gray)\n",
    "    for face in faces:\n",
    "        #x, y = face.left(), face.top()\n",
    "        #x1, y1 = face.right(), face.bottom()\n",
    "        #cv2.rectangle(frame, (x, y), (x1, y1), (0, 255, 0), 2)\n",
    "        landmarks = predictor(gray, face)\n",
    "        \n",
    "                \n",
    "        if relacion > 5.5:\n",
    "            cv2.putText(frame, \"HOLA MUNDO\", (50, 150), cv2.FONT_HERSHEY_SIMPLEX, 3, (0,0,0) )\n",
    "            \n",
    "    \n",
    "   "
   ]
  },
  {
   "cell_type": "code",
   "execution_count": null,
   "metadata": {},
   "outputs": [],
   "source": [
    "#Sacamos los Puntos para dibujar el contorno\n",
    "            left_eye_region = np.array([(landmarks.part(36).x, landmarks.part(36).y),\n",
    "                                        (landmarks.part(37).x, landmarks.part(37).y),\n",
    "                                        (landmarks.part(38).x, landmarks.part(38).y),\n",
    "                                        (landmarks.part(39).x, landmarks.part(39).y),\n",
    "                                        (landmarks.part(40).x, landmarks.part(40).y),\n",
    "                                        (landmarks.part(41).x, landmarks.part(41).y)], np.int32)"
   ]
  },
  {
   "cell_type": "code",
   "execution_count": null,
   "metadata": {},
   "outputs": [],
   "source": [
    "# Dibujamos el contorno\n",
    "#         print(left_eye_region) \n",
    "        cv2.polylines(frame, [left_eye_region], True, (0,0,255), 2)"
   ]
  },
  {
   "cell_type": "code",
   "execution_count": null,
   "metadata": {},
   "outputs": [],
   "source": [
    "            #sacamos los puntos minimos y maximos para poder recortarlo\n",
    "            min_x = np.min(left_eye_region[:, 0])\n",
    "            max_x = np.max(left_eye_region[:, 0])\n",
    "            min_y = np.min(left_eye_region[:, 1])\n",
    "            max_y = np.max(left_eye_region[:, 1])"
   ]
  },
  {
   "cell_type": "code",
   "execution_count": null,
   "metadata": {},
   "outputs": [],
   "source": [
    "gray_eye = left_eye[min_y: max_y, min_x: max_x]"
   ]
  },
  {
   "cell_type": "code",
   "execution_count": null,
   "metadata": {},
   "outputs": [],
   "source": [
    " cv2.imshow(\"frame\",frame) \n",
    "\n",
    "    key = cv2.waitKey(1)\n",
    "    if key == 27:\n",
    "        break\n",
    "cap.release()\n",
    "cv2.destroyAllWindows() "
   ]
  },
  {
   "cell_type": "code",
   "execution_count": null,
   "metadata": {},
   "outputs": [],
   "source": []
  }
 ],
 "metadata": {
  "kernelspec": {
   "display_name": "Python 2",
   "language": "python",
   "name": "python2"
  },
  "language_info": {
   "codemirror_mode": {
    "name": "ipython",
    "version": 2
   },
   "file_extension": ".py",
   "mimetype": "text/x-python",
   "name": "python",
   "nbconvert_exporter": "python",
   "pygments_lexer": "ipython2",
   "version": "2.7.16"
  }
 },
 "nbformat": 4,
 "nbformat_minor": 2
}
